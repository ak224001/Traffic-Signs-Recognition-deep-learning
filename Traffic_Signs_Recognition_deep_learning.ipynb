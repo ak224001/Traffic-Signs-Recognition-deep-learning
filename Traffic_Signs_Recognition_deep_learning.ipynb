{
  "nbformat": 4,
  "nbformat_minor": 0,
  "metadata": {
    "colab": {
      "name": "Traffic Signs Recognition deep_learning.ipynb",
      "provenance": [],
      "collapsed_sections": [],
      "toc_visible": true,
      "authorship_tag": "ABX9TyNnaAgO//ijSTqnmAseH3Yy",
      "include_colab_link": true
    },
    "kernelspec": {
      "name": "python3",
      "display_name": "Python 3"
    },
    "accelerator": "GPU"
  },
  "cells": [
    {
      "cell_type": "markdown",
      "metadata": {
        "id": "view-in-github",
        "colab_type": "text"
      },
      "source": [
        "<a href=\"https://colab.research.google.com/github/ak224001/Traffic-Signs-Recognition-deep-learning/blob/master/Traffic_Signs_Recognition_deep_learning.ipynb\" target=\"_parent\"><img src=\"https://colab.research.google.com/assets/colab-badge.svg\" alt=\"Open In Colab\"/></a>"
      ]
    },
    {
      "cell_type": "code",
      "metadata": {
        "id": "0GZ3D6v4sgMc",
        "colab_type": "code",
        "colab": {}
      },
      "source": [
        "# Colab library to upload files to notebook\n",
        "from google.colab import files\n",
        "\n",
        "# Install Kaggle library\n",
        "!pip install -q kaggle"
      ],
      "execution_count": 0,
      "outputs": []
    },
    {
      "cell_type": "code",
      "metadata": {
        "id": "5zvaIpTgtNRy",
        "colab_type": "code",
        "outputId": "a1300992-1346-44fa-a974-e170b01628a1",
        "colab": {
          "resources": {
            "http://localhost:8080/nbextensions/google.colab/files.js": {
              "data": "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",
              "ok": true,
              "headers": [
                [
                  "content-type",
                  "application/javascript"
                ]
              ],
              "status": 200,
              "status_text": ""
            }
          },
          "base_uri": "https://localhost:8080/",
          "height": 74
        }
      },
      "source": [
        "# Upload kaggle API key file\n",
        "uploaded = files.upload()"
      ],
      "execution_count": 2,
      "outputs": [
        {
          "output_type": "display_data",
          "data": {
            "text/html": [
              "\n",
              "     <input type=\"file\" id=\"files-cccfccc6-65ff-44db-9d24-095871040e08\" name=\"files[]\" multiple disabled />\n",
              "     <output id=\"result-cccfccc6-65ff-44db-9d24-095871040e08\">\n",
              "      Upload widget is only available when the cell has been executed in the\n",
              "      current browser session. Please rerun this cell to enable.\n",
              "      </output>\n",
              "      <script src=\"/nbextensions/google.colab/files.js\"></script> "
            ],
            "text/plain": [
              "<IPython.core.display.HTML object>"
            ]
          },
          "metadata": {
            "tags": []
          }
        },
        {
          "output_type": "stream",
          "text": [
            "Saving kaggle.json to kaggle.json\n"
          ],
          "name": "stdout"
        }
      ]
    },
    {
      "cell_type": "code",
      "metadata": {
        "id": "4u9TfX3htSQu",
        "colab_type": "code",
        "colab": {}
      },
      "source": [
        "! mkdir ~/.kaggle"
      ],
      "execution_count": 0,
      "outputs": []
    },
    {
      "cell_type": "code",
      "metadata": {
        "id": "AxDASYm1tWgC",
        "colab_type": "code",
        "colab": {}
      },
      "source": [
        "! cp kaggle.json ~/.kaggle/"
      ],
      "execution_count": 0,
      "outputs": []
    },
    {
      "cell_type": "code",
      "metadata": {
        "id": "HUqfwSIitcZl",
        "colab_type": "code",
        "colab": {}
      },
      "source": [
        "! chmod 600 ~/.kaggle/kaggle.json"
      ],
      "execution_count": 0,
      "outputs": []
    },
    {
      "cell_type": "code",
      "metadata": {
        "id": "d9zs1nflm-7d",
        "colab_type": "code",
        "colab": {}
      },
      "source": [
        "!pip uninstall -y kaggle\n",
        "!pip install --upgrade pip\n",
        "!pip install kaggle==1.5.6\n",
        "!kaggle -v"
      ],
      "execution_count": 0,
      "outputs": []
    },
    {
      "cell_type": "code",
      "metadata": {
        "id": "Hi9zKhQZx1Q3",
        "colab_type": "code",
        "outputId": "418f9620-05d1-4a0d-cd75-1b8d90432727",
        "colab": {
          "base_uri": "https://localhost:8080/",
          "height": 67
        }
      },
      "source": [
        "!kaggle datasets download -d meowmeowmeowmeowmeow/gtsrb-german-traffic-sign"
      ],
      "execution_count": 6,
      "outputs": [
        {
          "output_type": "stream",
          "text": [
            "Downloading gtsrb-german-traffic-sign.zip to /content\n",
            " 98% 601M/612M [00:13<00:00, 47.3MB/s]\n",
            "100% 612M/612M [00:14<00:00, 45.7MB/s]\n"
          ],
          "name": "stdout"
        }
      ]
    },
    {
      "cell_type": "code",
      "metadata": {
        "id": "p68HV6IIoEGF",
        "colab_type": "code",
        "colab": {}
      },
      "source": [
        "!unzip gtsrb-german-traffic-sign.zip"
      ],
      "execution_count": 0,
      "outputs": []
    },
    {
      "cell_type": "code",
      "metadata": {
        "id": "ZpanIEBPr-Fa",
        "colab_type": "code",
        "colab": {}
      },
      "source": [
        "import numpy as np\n",
        "import pandas as pd\n",
        "import matplotlib.pyplot as plt\n",
        "import tensorflow as tf\n",
        "from PIL import Image\n",
        "import os\n",
        "from sklearn.model_selection import train_test_split\n",
        "from tensorflow.keras.utils import to_categorical\n",
        "from tensorflow.keras.models import Sequential\n",
        "from tensorflow.keras.layers import Dense,MaxPooling2D,Conv2D,Flatten,Dropout"
      ],
      "execution_count": 0,
      "outputs": []
    },
    {
      "cell_type": "code",
      "metadata": {
        "id": "-MOirqmm4jXw",
        "colab_type": "code",
        "colab": {}
      },
      "source": [
        "train_data = []\n",
        "labels = []\n",
        "classes = 43\n",
        "cur_path = os.getcwd()\n",
        "for i in range(classes):\n",
        "  path = os.path.join(cur_path,\"train\",str(i))\n",
        "  images = os.listdir(path)\n",
        "  for img in images:\n",
        "    try:\n",
        "      image = Image.open(path+\"//\"+img)\n",
        "      image = image.resize((30,30))\n",
        "      image = np.array(image)\n",
        "      train_data.append(image)\n",
        "      labels.append(i)\n",
        "    except:\n",
        "      print(\"Error loading Image\")"
      ],
      "execution_count": 0,
      "outputs": []
    },
    {
      "cell_type": "code",
      "metadata": {
        "id": "n_mFGUYOFupx",
        "colab_type": "code",
        "colab": {}
      },
      "source": [
        "X_train,X_test,y_train,y_test = train_test_split(train_data,labels,test_size=.2,random_state =42,shuffle=True)"
      ],
      "execution_count": 0,
      "outputs": []
    },
    {
      "cell_type": "code",
      "metadata": {
        "id": "IJfmDt7nFwUh",
        "colab_type": "code",
        "outputId": "b15a1968-49ab-496b-8102-66498985b5ae",
        "colab": {
          "base_uri": "https://localhost:8080/",
          "height": 34
        }
      },
      "source": [
        "print(len(X_train),len(X_test),len(y_train),len(y_test))"
      ],
      "execution_count": 11,
      "outputs": [
        {
          "output_type": "stream",
          "text": [
            "31367 7842 31367 7842\n"
          ],
          "name": "stdout"
        }
      ]
    },
    {
      "cell_type": "code",
      "metadata": {
        "id": "dLi9yClBHM94",
        "colab_type": "code",
        "colab": {}
      },
      "source": [
        "y_train = to_categorical(y_train,43)\n",
        "y_test = to_categorical(y_test,43)"
      ],
      "execution_count": 0,
      "outputs": []
    },
    {
      "cell_type": "code",
      "metadata": {
        "id": "lkc4wh-PKi4V",
        "colab_type": "code",
        "colab": {}
      },
      "source": [
        "X_train = np.asarray(X_train)"
      ],
      "execution_count": 0,
      "outputs": []
    },
    {
      "cell_type": "code",
      "metadata": {
        "id": "me0SX2hJKtIC",
        "colab_type": "code",
        "outputId": "2fffab4b-4cdc-4b0c-ffe5-1a67567c2c6e",
        "colab": {
          "base_uri": "https://localhost:8080/",
          "height": 34
        }
      },
      "source": [
        "X_train.shape"
      ],
      "execution_count": 14,
      "outputs": [
        {
          "output_type": "execute_result",
          "data": {
            "text/plain": [
              "(31367, 30, 30, 3)"
            ]
          },
          "metadata": {
            "tags": []
          },
          "execution_count": 14
        }
      ]
    },
    {
      "cell_type": "code",
      "metadata": {
        "id": "6h9nHKZrKwpn",
        "colab_type": "code",
        "colab": {}
      },
      "source": [
        "X_test = np.asarray(X_test)"
      ],
      "execution_count": 0,
      "outputs": []
    },
    {
      "cell_type": "code",
      "metadata": {
        "id": "aCUjPuaQH_W7",
        "colab_type": "code",
        "colab": {}
      },
      "source": [
        "X_train  = X_train/255.\n",
        "X_test = X_test/255."
      ],
      "execution_count": 0,
      "outputs": []
    },
    {
      "cell_type": "code",
      "metadata": {
        "id": "kFGD3zWdCGax",
        "colab_type": "code",
        "colab": {}
      },
      "source": [
        "\n",
        "model = Sequential()\n",
        "\n",
        "model.add(Conv2D(32, (5, 5), padding='same', activation='relu',input_shape=X_train.shape[1:]))\n",
        "model.add(Conv2D(32, (5, 5), padding='same', activation='relu'))\n",
        "model.add(MaxPooling2D((2, 2)))\n",
        "model.add(Dropout(.25))\n",
        "\n",
        "model.add(Conv2D(64, (3, 3), padding='same', activation='relu'))\n",
        "model.add(Conv2D(64, (3, 3), padding='same', activation='relu'))\n",
        "model.add(MaxPooling2D((2, 2)))\n",
        "model.add(Dropout(.25))\n",
        "\n",
        "model.add(Flatten())\n",
        "model.add(Dense(256, activation='relu'))\n",
        "model.add(Dropout(0.5))\n",
        "\n",
        "model.add(Dense(256, activation='relu'))\n",
        "model.add(Dropout(0.5))\n",
        "\n",
        "model.add(Dense(43, activation=\"softmax\"))"
      ],
      "execution_count": 0,
      "outputs": []
    },
    {
      "cell_type": "code",
      "metadata": {
        "id": "CfL2MvDZFK19",
        "colab_type": "code",
        "colab": {}
      },
      "source": [
        "model.compile(optimizer=\"adam\", loss='categorical_crossentropy', metrics=['accuracy'])"
      ],
      "execution_count": 0,
      "outputs": []
    },
    {
      "cell_type": "code",
      "metadata": {
        "id": "kqgvx00pL91t",
        "colab_type": "code",
        "outputId": "c7b45433-b0f4-4d91-ca3f-d4916b065573",
        "colab": {
          "base_uri": "https://localhost:8080/",
          "height": 1000
        }
      },
      "source": [
        "epochs = 100\n",
        "history = model.fit(X_train,y_train, batch_size = 64, epochs=epochs,\n",
        "\t\tvalidation_data=(X_test,y_test), verbose=1)"
      ],
      "execution_count": 87,
      "outputs": [
        {
          "output_type": "stream",
          "text": [
            "Epoch 1/100\n",
            "491/491 [==============================] - 4s 8ms/step - loss: 2.4459 - accuracy: 0.2939 - val_loss: 0.9538 - val_accuracy: 0.6954\n",
            "Epoch 2/100\n",
            "491/491 [==============================] - 4s 8ms/step - loss: 0.7279 - accuracy: 0.7645 - val_loss: 0.1739 - val_accuracy: 0.9459\n",
            "Epoch 3/100\n",
            "491/491 [==============================] - 4s 8ms/step - loss: 0.3370 - accuracy: 0.8939 - val_loss: 0.0728 - val_accuracy: 0.9809\n",
            "Epoch 4/100\n",
            "491/491 [==============================] - 4s 7ms/step - loss: 0.2099 - accuracy: 0.9374 - val_loss: 0.0565 - val_accuracy: 0.9870\n",
            "Epoch 5/100\n",
            "491/491 [==============================] - 4s 7ms/step - loss: 0.1597 - accuracy: 0.9522 - val_loss: 0.0391 - val_accuracy: 0.9898\n",
            "Epoch 6/100\n",
            "491/491 [==============================] - 4s 7ms/step - loss: 0.1396 - accuracy: 0.9581 - val_loss: 0.0298 - val_accuracy: 0.9931\n",
            "Epoch 7/100\n",
            "491/491 [==============================] - 4s 7ms/step - loss: 0.1157 - accuracy: 0.9652 - val_loss: 0.0258 - val_accuracy: 0.9939\n",
            "Epoch 8/100\n",
            "491/491 [==============================] - 4s 7ms/step - loss: 0.1077 - accuracy: 0.9672 - val_loss: 0.0258 - val_accuracy: 0.9943\n",
            "Epoch 9/100\n",
            "491/491 [==============================] - 4s 7ms/step - loss: 0.0940 - accuracy: 0.9719 - val_loss: 0.0225 - val_accuracy: 0.9952\n",
            "Epoch 10/100\n",
            "491/491 [==============================] - 4s 7ms/step - loss: 0.0864 - accuracy: 0.9740 - val_loss: 0.0414 - val_accuracy: 0.9890\n",
            "Epoch 11/100\n",
            "491/491 [==============================] - 4s 7ms/step - loss: 0.0899 - accuracy: 0.9736 - val_loss: 0.0212 - val_accuracy: 0.9950\n",
            "Epoch 12/100\n",
            "491/491 [==============================] - 4s 7ms/step - loss: 0.0777 - accuracy: 0.9773 - val_loss: 0.0215 - val_accuracy: 0.9943\n",
            "Epoch 13/100\n",
            "491/491 [==============================] - 4s 7ms/step - loss: 0.0663 - accuracy: 0.9807 - val_loss: 0.0259 - val_accuracy: 0.9935\n",
            "Epoch 14/100\n",
            "491/491 [==============================] - 4s 7ms/step - loss: 0.0724 - accuracy: 0.9800 - val_loss: 0.0174 - val_accuracy: 0.9954\n",
            "Epoch 15/100\n",
            "491/491 [==============================] - 4s 7ms/step - loss: 0.0738 - accuracy: 0.9782 - val_loss: 0.0219 - val_accuracy: 0.9944\n",
            "Epoch 16/100\n",
            "491/491 [==============================] - 4s 7ms/step - loss: 0.0637 - accuracy: 0.9818 - val_loss: 0.0175 - val_accuracy: 0.9954\n",
            "Epoch 17/100\n",
            "491/491 [==============================] - 4s 7ms/step - loss: 0.0565 - accuracy: 0.9834 - val_loss: 0.0144 - val_accuracy: 0.9971\n",
            "Epoch 18/100\n",
            "491/491 [==============================] - 4s 7ms/step - loss: 0.0581 - accuracy: 0.9839 - val_loss: 0.0220 - val_accuracy: 0.9944\n",
            "Epoch 19/100\n",
            "491/491 [==============================] - 4s 7ms/step - loss: 0.0604 - accuracy: 0.9829 - val_loss: 0.0266 - val_accuracy: 0.9936\n",
            "Epoch 20/100\n",
            "491/491 [==============================] - 4s 8ms/step - loss: 0.0585 - accuracy: 0.9839 - val_loss: 0.0199 - val_accuracy: 0.9954\n",
            "Epoch 21/100\n",
            "491/491 [==============================] - 4s 7ms/step - loss: 0.0540 - accuracy: 0.9849 - val_loss: 0.0147 - val_accuracy: 0.9974\n",
            "Epoch 22/100\n",
            "491/491 [==============================] - 4s 8ms/step - loss: 0.0648 - accuracy: 0.9823 - val_loss: 0.0165 - val_accuracy: 0.9964\n",
            "Epoch 23/100\n",
            "491/491 [==============================] - 4s 8ms/step - loss: 0.0511 - accuracy: 0.9856 - val_loss: 0.0122 - val_accuracy: 0.9973\n",
            "Epoch 24/100\n",
            "491/491 [==============================] - 4s 8ms/step - loss: 0.0584 - accuracy: 0.9850 - val_loss: 0.0166 - val_accuracy: 0.9972\n",
            "Epoch 25/100\n",
            "491/491 [==============================] - 4s 8ms/step - loss: 0.0495 - accuracy: 0.9863 - val_loss: 0.0173 - val_accuracy: 0.9967\n",
            "Epoch 26/100\n",
            "491/491 [==============================] - 4s 8ms/step - loss: 0.0582 - accuracy: 0.9843 - val_loss: 0.0155 - val_accuracy: 0.9971\n",
            "Epoch 27/100\n",
            "491/491 [==============================] - 4s 8ms/step - loss: 0.0516 - accuracy: 0.9859 - val_loss: 0.0167 - val_accuracy: 0.9962\n",
            "Epoch 28/100\n",
            "491/491 [==============================] - 4s 8ms/step - loss: 0.0514 - accuracy: 0.9863 - val_loss: 0.0111 - val_accuracy: 0.9977\n",
            "Epoch 29/100\n",
            "491/491 [==============================] - 4s 8ms/step - loss: 0.0452 - accuracy: 0.9876 - val_loss: 0.0135 - val_accuracy: 0.9974\n",
            "Epoch 30/100\n",
            "491/491 [==============================] - 4s 8ms/step - loss: 0.0449 - accuracy: 0.9879 - val_loss: 0.0111 - val_accuracy: 0.9982\n",
            "Epoch 31/100\n",
            "491/491 [==============================] - 4s 8ms/step - loss: 0.0498 - accuracy: 0.9864 - val_loss: 0.0170 - val_accuracy: 0.9971\n",
            "Epoch 32/100\n",
            "491/491 [==============================] - 4s 7ms/step - loss: 0.0419 - accuracy: 0.9884 - val_loss: 0.0145 - val_accuracy: 0.9972\n",
            "Epoch 33/100\n",
            "491/491 [==============================] - 4s 8ms/step - loss: 0.0417 - accuracy: 0.9892 - val_loss: 0.0117 - val_accuracy: 0.9968\n",
            "Epoch 34/100\n",
            "491/491 [==============================] - 4s 8ms/step - loss: 0.0448 - accuracy: 0.9879 - val_loss: 0.0111 - val_accuracy: 0.9976\n",
            "Epoch 35/100\n",
            "491/491 [==============================] - 4s 8ms/step - loss: 0.0367 - accuracy: 0.9896 - val_loss: 0.0148 - val_accuracy: 0.9968\n",
            "Epoch 36/100\n",
            "491/491 [==============================] - 4s 8ms/step - loss: 0.0559 - accuracy: 0.9860 - val_loss: 0.0122 - val_accuracy: 0.9974\n",
            "Epoch 37/100\n",
            "491/491 [==============================] - 4s 8ms/step - loss: 0.0568 - accuracy: 0.9856 - val_loss: 0.0160 - val_accuracy: 0.9973\n",
            "Epoch 38/100\n",
            "491/491 [==============================] - 4s 8ms/step - loss: 0.0466 - accuracy: 0.9886 - val_loss: 0.0117 - val_accuracy: 0.9980\n",
            "Epoch 39/100\n",
            "491/491 [==============================] - 4s 8ms/step - loss: 0.0390 - accuracy: 0.9898 - val_loss: 0.0184 - val_accuracy: 0.9966\n",
            "Epoch 40/100\n",
            "491/491 [==============================] - 4s 8ms/step - loss: 0.0491 - accuracy: 0.9877 - val_loss: 0.0222 - val_accuracy: 0.9955\n",
            "Epoch 41/100\n",
            "491/491 [==============================] - 4s 8ms/step - loss: 0.0484 - accuracy: 0.9876 - val_loss: 0.0154 - val_accuracy: 0.9976\n",
            "Epoch 42/100\n",
            "491/491 [==============================] - 4s 8ms/step - loss: 0.0397 - accuracy: 0.9896 - val_loss: 0.0169 - val_accuracy: 0.9967\n",
            "Epoch 43/100\n",
            "491/491 [==============================] - 4s 7ms/step - loss: 0.0432 - accuracy: 0.9886 - val_loss: 0.0139 - val_accuracy: 0.9974\n",
            "Epoch 44/100\n",
            "491/491 [==============================] - 4s 8ms/step - loss: 0.0501 - accuracy: 0.9887 - val_loss: 0.0199 - val_accuracy: 0.9958\n",
            "Epoch 45/100\n",
            "491/491 [==============================] - 4s 8ms/step - loss: 0.0459 - accuracy: 0.9886 - val_loss: 0.0147 - val_accuracy: 0.9981\n",
            "Epoch 46/100\n",
            "491/491 [==============================] - 4s 8ms/step - loss: 0.0411 - accuracy: 0.9888 - val_loss: 0.0103 - val_accuracy: 0.9973\n",
            "Epoch 47/100\n",
            "491/491 [==============================] - 4s 8ms/step - loss: 0.0464 - accuracy: 0.9893 - val_loss: 0.0190 - val_accuracy: 0.9971\n",
            "Epoch 48/100\n",
            "491/491 [==============================] - 4s 8ms/step - loss: 0.0376 - accuracy: 0.9910 - val_loss: 0.0111 - val_accuracy: 0.9977\n",
            "Epoch 49/100\n",
            "491/491 [==============================] - 4s 8ms/step - loss: 0.0493 - accuracy: 0.9876 - val_loss: 0.0210 - val_accuracy: 0.9971\n",
            "Epoch 50/100\n",
            "491/491 [==============================] - 4s 8ms/step - loss: 0.0382 - accuracy: 0.9905 - val_loss: 0.0114 - val_accuracy: 0.9976\n",
            "Epoch 51/100\n",
            "491/491 [==============================] - 4s 8ms/step - loss: 0.0491 - accuracy: 0.9891 - val_loss: 0.0188 - val_accuracy: 0.9980\n",
            "Epoch 52/100\n",
            "491/491 [==============================] - 4s 8ms/step - loss: 0.0407 - accuracy: 0.9896 - val_loss: 0.0176 - val_accuracy: 0.9974\n",
            "Epoch 53/100\n",
            "491/491 [==============================] - 4s 8ms/step - loss: 0.0406 - accuracy: 0.9900 - val_loss: 0.0152 - val_accuracy: 0.9972\n",
            "Epoch 54/100\n",
            "491/491 [==============================] - 4s 8ms/step - loss: 0.0485 - accuracy: 0.9887 - val_loss: 0.0172 - val_accuracy: 0.9973\n",
            "Epoch 55/100\n",
            "491/491 [==============================] - 4s 7ms/step - loss: 0.0490 - accuracy: 0.9887 - val_loss: 0.0110 - val_accuracy: 0.9985\n",
            "Epoch 56/100\n",
            "491/491 [==============================] - 4s 8ms/step - loss: 0.0579 - accuracy: 0.9869 - val_loss: 0.0183 - val_accuracy: 0.9964\n",
            "Epoch 57/100\n",
            "491/491 [==============================] - 4s 8ms/step - loss: 0.0386 - accuracy: 0.9903 - val_loss: 0.0124 - val_accuracy: 0.9983\n",
            "Epoch 58/100\n",
            "491/491 [==============================] - 4s 8ms/step - loss: 0.0338 - accuracy: 0.9928 - val_loss: 0.0139 - val_accuracy: 0.9980\n",
            "Epoch 59/100\n",
            "491/491 [==============================] - 4s 8ms/step - loss: 0.0406 - accuracy: 0.9903 - val_loss: 0.0140 - val_accuracy: 0.9976\n",
            "Epoch 60/100\n",
            "491/491 [==============================] - 4s 8ms/step - loss: 0.0486 - accuracy: 0.9886 - val_loss: 0.0115 - val_accuracy: 0.9974\n",
            "Epoch 61/100\n",
            "491/491 [==============================] - 4s 8ms/step - loss: 0.0460 - accuracy: 0.9895 - val_loss: 0.0116 - val_accuracy: 0.9980\n",
            "Epoch 62/100\n",
            "491/491 [==============================] - 4s 7ms/step - loss: 0.0514 - accuracy: 0.9879 - val_loss: 0.0111 - val_accuracy: 0.9977\n",
            "Epoch 63/100\n",
            "491/491 [==============================] - 4s 7ms/step - loss: 0.0404 - accuracy: 0.9912 - val_loss: 0.0160 - val_accuracy: 0.9978\n",
            "Epoch 64/100\n",
            "491/491 [==============================] - 4s 8ms/step - loss: 0.0458 - accuracy: 0.9897 - val_loss: 0.0128 - val_accuracy: 0.9978\n",
            "Epoch 65/100\n",
            "491/491 [==============================] - 4s 7ms/step - loss: 0.0389 - accuracy: 0.9910 - val_loss: 0.0126 - val_accuracy: 0.9974\n",
            "Epoch 66/100\n",
            "491/491 [==============================] - 4s 8ms/step - loss: 0.0461 - accuracy: 0.9886 - val_loss: 0.0186 - val_accuracy: 0.9972\n",
            "Epoch 67/100\n",
            "491/491 [==============================] - 4s 8ms/step - loss: 0.0415 - accuracy: 0.9905 - val_loss: 0.0099 - val_accuracy: 0.9978\n",
            "Epoch 68/100\n",
            "491/491 [==============================] - 4s 8ms/step - loss: 0.0438 - accuracy: 0.9901 - val_loss: 0.0206 - val_accuracy: 0.9962\n",
            "Epoch 69/100\n",
            "491/491 [==============================] - 4s 8ms/step - loss: 0.0400 - accuracy: 0.9904 - val_loss: 0.0201 - val_accuracy: 0.9966\n",
            "Epoch 70/100\n",
            "491/491 [==============================] - 4s 8ms/step - loss: 0.0558 - accuracy: 0.9883 - val_loss: 0.0133 - val_accuracy: 0.9985\n",
            "Epoch 71/100\n",
            "491/491 [==============================] - 4s 8ms/step - loss: 0.0539 - accuracy: 0.9896 - val_loss: 0.0102 - val_accuracy: 0.9982\n",
            "Epoch 72/100\n",
            "491/491 [==============================] - 4s 7ms/step - loss: 0.0373 - accuracy: 0.9909 - val_loss: 0.0100 - val_accuracy: 0.9981\n",
            "Epoch 73/100\n",
            "491/491 [==============================] - 4s 8ms/step - loss: 0.0485 - accuracy: 0.9899 - val_loss: 0.0126 - val_accuracy: 0.9981\n",
            "Epoch 74/100\n",
            "491/491 [==============================] - 4s 8ms/step - loss: 0.0441 - accuracy: 0.9899 - val_loss: 0.0166 - val_accuracy: 0.9967\n",
            "Epoch 75/100\n",
            "491/491 [==============================] - 4s 8ms/step - loss: 0.0505 - accuracy: 0.9892 - val_loss: 0.0145 - val_accuracy: 0.9974\n",
            "Epoch 76/100\n",
            "491/491 [==============================] - 4s 8ms/step - loss: 0.0453 - accuracy: 0.9896 - val_loss: 0.0225 - val_accuracy: 0.9946\n",
            "Epoch 77/100\n",
            "491/491 [==============================] - 4s 7ms/step - loss: 0.0406 - accuracy: 0.9905 - val_loss: 0.0126 - val_accuracy: 0.9983\n",
            "Epoch 78/100\n",
            "491/491 [==============================] - 4s 8ms/step - loss: 0.0542 - accuracy: 0.9887 - val_loss: 0.0175 - val_accuracy: 0.9976\n",
            "Epoch 79/100\n",
            "491/491 [==============================] - 4s 8ms/step - loss: 0.0480 - accuracy: 0.9898 - val_loss: 0.0143 - val_accuracy: 0.9980\n",
            "Epoch 80/100\n",
            "491/491 [==============================] - 4s 7ms/step - loss: 0.0494 - accuracy: 0.9898 - val_loss: 0.0141 - val_accuracy: 0.9974\n",
            "Epoch 81/100\n",
            "491/491 [==============================] - 4s 8ms/step - loss: 0.0430 - accuracy: 0.9904 - val_loss: 0.0120 - val_accuracy: 0.9977\n",
            "Epoch 82/100\n",
            "491/491 [==============================] - 4s 8ms/step - loss: 0.0439 - accuracy: 0.9905 - val_loss: 0.0135 - val_accuracy: 0.9977\n",
            "Epoch 83/100\n",
            "491/491 [==============================] - 4s 8ms/step - loss: 0.0406 - accuracy: 0.9912 - val_loss: 0.0140 - val_accuracy: 0.9980\n",
            "Epoch 84/100\n",
            "491/491 [==============================] - 4s 8ms/step - loss: 0.0496 - accuracy: 0.9906 - val_loss: 0.0100 - val_accuracy: 0.9980\n",
            "Epoch 85/100\n",
            "491/491 [==============================] - 4s 8ms/step - loss: 0.0329 - accuracy: 0.9919 - val_loss: 0.0158 - val_accuracy: 0.9976\n",
            "Epoch 86/100\n",
            "491/491 [==============================] - 4s 7ms/step - loss: 0.0418 - accuracy: 0.9912 - val_loss: 0.0233 - val_accuracy: 0.9967\n",
            "Epoch 87/100\n",
            "491/491 [==============================] - 4s 7ms/step - loss: 0.0486 - accuracy: 0.9894 - val_loss: 0.0261 - val_accuracy: 0.9971\n",
            "Epoch 88/100\n",
            "491/491 [==============================] - 4s 8ms/step - loss: 0.0582 - accuracy: 0.9891 - val_loss: 0.0184 - val_accuracy: 0.9976\n",
            "Epoch 89/100\n",
            "491/491 [==============================] - 4s 8ms/step - loss: 0.0429 - accuracy: 0.9914 - val_loss: 0.0159 - val_accuracy: 0.9978\n",
            "Epoch 90/100\n",
            "491/491 [==============================] - 4s 8ms/step - loss: 0.0544 - accuracy: 0.9891 - val_loss: 0.0128 - val_accuracy: 0.9976\n",
            "Epoch 91/100\n",
            "491/491 [==============================] - 4s 8ms/step - loss: 0.0459 - accuracy: 0.9913 - val_loss: 0.0140 - val_accuracy: 0.9982\n",
            "Epoch 92/100\n",
            "491/491 [==============================] - 4s 8ms/step - loss: 0.0360 - accuracy: 0.9920 - val_loss: 0.0312 - val_accuracy: 0.9946\n",
            "Epoch 93/100\n",
            "491/491 [==============================] - 4s 8ms/step - loss: 0.0496 - accuracy: 0.9909 - val_loss: 0.0174 - val_accuracy: 0.9974\n",
            "Epoch 94/100\n",
            "491/491 [==============================] - 4s 8ms/step - loss: 0.0349 - accuracy: 0.9917 - val_loss: 0.0164 - val_accuracy: 0.9976\n",
            "Epoch 95/100\n",
            "491/491 [==============================] - 4s 8ms/step - loss: 0.0449 - accuracy: 0.9912 - val_loss: 0.0298 - val_accuracy: 0.9938\n",
            "Epoch 96/100\n",
            "491/491 [==============================] - 4s 8ms/step - loss: 0.0571 - accuracy: 0.9887 - val_loss: 0.0227 - val_accuracy: 0.9972\n",
            "Epoch 97/100\n",
            "491/491 [==============================] - 4s 8ms/step - loss: 0.0439 - accuracy: 0.9912 - val_loss: 0.0116 - val_accuracy: 0.9978\n",
            "Epoch 98/100\n",
            "491/491 [==============================] - 4s 7ms/step - loss: 0.0498 - accuracy: 0.9901 - val_loss: 0.0172 - val_accuracy: 0.9976\n",
            "Epoch 99/100\n",
            "491/491 [==============================] - 4s 8ms/step - loss: 0.0478 - accuracy: 0.9898 - val_loss: 0.0268 - val_accuracy: 0.9948\n",
            "Epoch 100/100\n",
            "491/491 [==============================] - 4s 8ms/step - loss: 0.0413 - accuracy: 0.9913 - val_loss: 0.0205 - val_accuracy: 0.9977\n"
          ],
          "name": "stdout"
        }
      ]
    },
    {
      "cell_type": "code",
      "metadata": {
        "id": "rDMmmjwcMzht",
        "colab_type": "code",
        "outputId": "b571723e-deea-4dd0-9298-876565fbec96",
        "colab": {
          "base_uri": "https://localhost:8080/",
          "height": 573
        }
      },
      "source": [
        "import matplotlib.pyplot as plt\n",
        "# summarize history for accuracy\n",
        "plt.plot(history.history['accuracy'])\n",
        "plt.plot(history.history['val_accuracy'])\n",
        "plt.title('model accuracy')\n",
        "plt.ylabel('accuracy')\n",
        "plt.xlabel('epoch')\n",
        "plt.legend(['training', 'validation'], loc='upper left')\n",
        "plt.show()\n",
        "# summarize history for loss\n",
        "plt.plot(history.history['loss'])\n",
        "plt.plot(history.history['val_loss'])\n",
        "plt.title('model loss')\n",
        "plt.ylabel('loss')\n",
        "plt.xlabel('epoch')\n",
        "plt.legend(['training', 'validation'], loc='upper left')\n",
        "plt.show()"
      ],
      "execution_count": 88,
      "outputs": [
        {
          "output_type": "display_data",
          "data": {
            "image/png": "[encoded data removed]",
            "text/plain": [
              "<Figure size 432x288 with 1 Axes>"
            ]
          },
          "metadata": {
            "tags": []
          }
        },
        {
          "output_type": "display_data",
          "data": {
            "image/png": "[encoded data removed]",
            "text/plain": [
              "<Figure size 432x288 with 1 Axes>"
            ]
          },
          "metadata": {
            "tags": []
          }
        }
      ]
    },
    {
      "cell_type": "code",
      "metadata": {
        "id": "0lXWkW1ZOJC3",
        "colab_type": "code",
        "colab": {}
      },
      "source": [
        "from sklearn.metrics import accuracy_score\n",
        "import pandas as pd\n",
        "test_Csv = pd.read_csv('/content/Test.csv')"
      ],
      "execution_count": 0,
      "outputs": []
    },
    {
      "cell_type": "code",
      "metadata": {
        "id": "nPyhI0d1Pdf-",
        "colab_type": "code",
        "outputId": "43ed046d-e93d-4119-8fef-eb3c7127b39d",
        "colab": {
          "base_uri": "https://localhost:8080/",
          "height": 195
        }
      },
      "source": [
        "test_Csv.head()"
      ],
      "execution_count": 57,
      "outputs": [
        {
          "output_type": "execute_result",
          "data": {
            "text/html": [
              "<div>\n",
              "<style scoped>\n",
              "    .dataframe tbody tr th:only-of-type {\n",
              "        vertical-align: middle;\n",
              "    }\n",
              "\n",
              "    .dataframe tbody tr th {\n",
              "        vertical-align: top;\n",
              "    }\n",
              "\n",
              "    .dataframe thead th {\n",
              "        text-align: right;\n",
              "    }\n",
              "</style>\n",
              "<table border=\"1\" class=\"dataframe\">\n",
              "  <thead>\n",
              "    <tr style=\"text-align: right;\">\n",
              "      <th></th>\n",
              "      <th>Width</th>\n",
              "      <th>Height</th>\n",
              "      <th>Roi.X1</th>\n",
              "      <th>Roi.Y1</th>\n",
              "      <th>Roi.X2</th>\n",
              "      <th>Roi.Y2</th>\n",
              "      <th>ClassId</th>\n",
              "      <th>Path</th>\n",
              "    </tr>\n",
              "  </thead>\n",
              "  <tbody>\n",
              "    <tr>\n",
              "      <th>0</th>\n",
              "      <td>53</td>\n",
              "      <td>54</td>\n",
              "      <td>6</td>\n",
              "      <td>5</td>\n",
              "      <td>48</td>\n",
              "      <td>49</td>\n",
              "      <td>16</td>\n",
              "      <td>Test/00000.png</td>\n",
              "    </tr>\n",
              "    <tr>\n",
              "      <th>1</th>\n",
              "      <td>42</td>\n",
              "      <td>45</td>\n",
              "      <td>5</td>\n",
              "      <td>5</td>\n",
              "      <td>36</td>\n",
              "      <td>40</td>\n",
              "      <td>1</td>\n",
              "      <td>Test/00001.png</td>\n",
              "    </tr>\n",
              "    <tr>\n",
              "      <th>2</th>\n",
              "      <td>48</td>\n",
              "      <td>52</td>\n",
              "      <td>6</td>\n",
              "      <td>6</td>\n",
              "      <td>43</td>\n",
              "      <td>47</td>\n",
              "      <td>38</td>\n",
              "      <td>Test/00002.png</td>\n",
              "    </tr>\n",
              "    <tr>\n",
              "      <th>3</th>\n",
              "      <td>27</td>\n",
              "      <td>29</td>\n",
              "      <td>5</td>\n",
              "      <td>5</td>\n",
              "      <td>22</td>\n",
              "      <td>24</td>\n",
              "      <td>33</td>\n",
              "      <td>Test/00003.png</td>\n",
              "    </tr>\n",
              "    <tr>\n",
              "      <th>4</th>\n",
              "      <td>60</td>\n",
              "      <td>57</td>\n",
              "      <td>5</td>\n",
              "      <td>5</td>\n",
              "      <td>55</td>\n",
              "      <td>52</td>\n",
              "      <td>11</td>\n",
              "      <td>Test/00004.png</td>\n",
              "    </tr>\n",
              "  </tbody>\n",
              "</table>\n",
              "</div>"
            ],
            "text/plain": [
              "   Width  Height  Roi.X1  Roi.Y1  Roi.X2  Roi.Y2  ClassId            Path\n",
              "0     53      54       6       5      48      49       16  Test/00000.png\n",
              "1     42      45       5       5      36      40        1  Test/00001.png\n",
              "2     48      52       6       6      43      47       38  Test/00002.png\n",
              "3     27      29       5       5      22      24       33  Test/00003.png\n",
              "4     60      57       5       5      55      52       11  Test/00004.png"
            ]
          },
          "metadata": {
            "tags": []
          },
          "execution_count": 57
        }
      ]
    },
    {
      "cell_type": "code",
      "metadata": {
        "id": "kDY16pggPS5d",
        "colab_type": "code",
        "colab": {}
      },
      "source": [
        "test_labels = test_Csv[\"ClassId\"].values"
      ],
      "execution_count": 0,
      "outputs": []
    },
    {
      "cell_type": "code",
      "metadata": {
        "id": "OE3PPCOjPrPW",
        "colab_type": "code",
        "colab": {}
      },
      "source": [
        "imgs = test_Csv[\"Path\"].values"
      ],
      "execution_count": 0,
      "outputs": []
    },
    {
      "cell_type": "code",
      "metadata": {
        "id": "0r_XvaQvPtHl",
        "colab_type": "code",
        "colab": {}
      },
      "source": [
        "test_data=[]\n",
        "for i in imgs:\n",
        "  image = Image.open(i)\n",
        "  image = image.resize((30,30))\n",
        "  test_data.append(np.array(image))\n",
        "\n",
        "test_data = np.asarray(test_data)"
      ],
      "execution_count": 0,
      "outputs": []
    },
    {
      "cell_type": "code",
      "metadata": {
        "id": "tA33tK1KP8iW",
        "colab_type": "code",
        "colab": {}
      },
      "source": [
        "pred = model.predict(test_data)"
      ],
      "execution_count": 0,
      "outputs": []
    },
    {
      "cell_type": "code",
      "metadata": {
        "id": "rUKMmAk-Ru9V",
        "colab_type": "code",
        "colab": {}
      },
      "source": [
        "predict = model.predict_classes(test_data)"
      ],
      "execution_count": 0,
      "outputs": []
    },
    {
      "cell_type": "code",
      "metadata": {
        "id": "eEin3fVuSKVt",
        "colab_type": "code",
        "outputId": "6d24a55e-32d1-46cf-b207-3ab91e186118",
        "colab": {
          "base_uri": "https://localhost:8080/",
          "height": 34
        }
      },
      "source": [
        "accuracy_score(test_labels,predict)"
      ],
      "execution_count": 90,
      "outputs": [
        {
          "output_type": "execute_result",
          "data": {
            "text/plain": [
              "0.9670625494853523"
            ]
          },
          "metadata": {
            "tags": []
          },
          "execution_count": 90
        }
      ]
    }
  ]
}